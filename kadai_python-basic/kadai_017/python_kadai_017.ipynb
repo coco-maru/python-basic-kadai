{
  "cells": [
    {
      "cell_type": "code",
      "source": [
        "class Human():\n",
        "    # Humanクラスのコンストラクタ\n",
        "    def __init__(self,name,age):\n",
        "        self.name = name\n",
        "        self.age = age\n",
        "\n",
        "    # 表示するメソッド\n",
        "    def check_adult(self):\n",
        "        # ageが20以上の場合に大人\n",
        "        if self.age >= 20:\n",
        "            print(\"大人です。\")\n",
        "        else:\n",
        "            print(\"大人ではありません。\")\n",
        "\n",
        "# Humanクラスのインスタンスを作成\n",
        "yamada = Human(\"yamada\",20)\n",
        "nakayama = Human(\"nakayama\",34)\n",
        "saito = Human(\"saito\",15)\n",
        "hayashi = Human(\"hayashi\",19)\n",
        "\n",
        "# インスタンスをリスト化\n",
        "human_list= [yamada,nakayama,saito,hayashi]\n",
        "\n",
        "# リストの数分メソッドを実行させる\n",
        "for human in human_list:\n",
        "    human.check_adult()"
      ],
      "metadata": {
        "id": "Ks_ETvW1Fpgl",
        "outputId": "1bbce598-0baa-4de9-8af4-733059ec74b7",
        "colab": {
          "base_uri": "https://localhost:8080/"
        }
      },
      "execution_count": null,
      "outputs": [
        {
          "output_type": "stream",
          "name": "stdout",
          "text": [
            "Fri May  2 07:03:20 PM JST 2025\n"
          ]
        }
      ]
    }
  ],
  "metadata": {
    "colab": {
      "provenance": []
    },
    "kernelspec": {
      "display_name": "Python 3",
      "name": "python3"
    },
    "language_info": {
      "name": "python"
    }
  },
  "nbformat": 4,
  "nbformat_minor": 0
}