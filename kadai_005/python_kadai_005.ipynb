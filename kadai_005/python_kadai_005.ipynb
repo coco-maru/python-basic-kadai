{
  "nbformat": 4,
  "nbformat_minor": 0,
  "metadata": {
    "colab": {
      "provenance": []
    },
    "kernelspec": {
      "name": "python3",
      "display_name": "Python 3"
    },
    "language_info": {
      "name": "python"
    }
  },
  "cells": [
    {
      "cell_type": "code",
      "source": [
        "#上辺：10cm\n",
        "#下辺：20cm\n",
        "#高さ：5cm\n",
        "#公式：台形の面積 =（上辺＋下辺）× 高さ ÷ 2\n",
        "\n",
        "top = 10\n",
        "bottom = 20\n",
        "height = 5\n",
        "trapezoid_area = ( top + bottom ) * height / 2\n",
        "print(f\"{trapezoid_area}cm²\")"
      ],
      "metadata": {
        "colab": {
          "base_uri": "https://localhost:8080/"
        },
        "id": "Y2MmG68Hn-7m",
        "outputId": "9dce896d-0e37-4e22-900c-ab52ad7dc61e"
      },
      "execution_count": 3,
      "outputs": [
        {
          "output_type": "stream",
          "name": "stdout",
          "text": [
            "75.0cm²\n"
          ]
        }
      ]
    }
  ]
}