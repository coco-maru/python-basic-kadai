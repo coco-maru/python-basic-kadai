{
  "cells": [
    {
      "cell_type": "code",
      "source": [
        "class Human:\n",
        "    # 属性(プロパティ)を設定する\n",
        "    def __init__(self,name,age):\n",
        "        self.name = name\n",
        "        self.age = age\n",
        "    # メソッドの設定\n",
        "    def printinfo(self):\n",
        "        print(f\"名前は{self.name}、年齢は{self.age}です。\")\n",
        "\n",
        "# クラスの呼び出し\n",
        "sato = Human(\"佐藤\",34)\n",
        "sato.printinfo()"
      ],
      "metadata": {
        "id": "Ks_ETvW1Fpgl"
      },
      "execution_count": null,
      "outputs": []
    }
  ],
  "metadata": {
    "colab": {
      "provenance": []
    },
    "kernelspec": {
      "display_name": "Python 3",
      "name": "python3"
    },
    "language_info": {
      "name": "python"
    }
  },
  "nbformat": 4,
  "nbformat_minor": 0
}