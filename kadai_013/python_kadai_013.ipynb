{
  "cells": [
    {
      "cell_type": "code",
      "source": [
        "def tax_price(price,tax):\n",
        "    return price +(price * tax *1/100)\n",
        "\n",
        "print(tax_price(110,10))"
      ],
      "metadata": {
        "colab": {
          "base_uri": "https://localhost:8080/"
        },
        "id": "WvLX1tBIpqDo",
        "outputId": "8460275e-e3fd-4626-d636-df468535ec21"
      },
      "execution_count": 1,
      "outputs": [
        {
          "output_type": "stream",
          "name": "stdout",
          "text": [
            "121.0\n"
          ]
        }
      ]
    }
  ],
  "metadata": {
    "colab": {
      "provenance": []
    },
    "kernelspec": {
      "display_name": "Python 3",
      "name": "python3"
    },
    "language_info": {
      "name": "python"
    }
  },
  "nbformat": 4,
  "nbformat_minor": 0
}