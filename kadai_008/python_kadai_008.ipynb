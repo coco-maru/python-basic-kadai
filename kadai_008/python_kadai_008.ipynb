{
  "cells": [
    {
      "cell_type": "code",
      "source": [
        "if var % 3 == 0 and var % 5==0:#3の倍数&5の倍数のとき\n",
        "    print(\"FizzBuzz\")\n",
        "elif var % 3 == 0:#3の倍数のとき\n",
        "    print(\"Fizz\")\n",
        "elif var % 5 == 0:\n",
        "    print(\"Buzz\")\n",
        "else:\n",
        "    print(var)"
      ],
      "metadata": {
        "id": "Ti5A3lElLh7v"
      },
      "execution_count": null,
      "outputs": []
    }
  ],
  "metadata": {
    "colab": {
      "provenance": []
    },
    "kernelspec": {
      "display_name": "Python 3",
      "name": "python3"
    },
    "language_info": {
      "name": "python"
    }
  },
  "nbformat": 4,
  "nbformat_minor": 0
}