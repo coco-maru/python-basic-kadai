{
  "cells": [
    {
      "cell_type": "code",
      "source": [
        "def tax_price(price):\n",
        "    tax = 0.1\n",
        "    return price +(price * tax)\n",
        "\n",
        "print(tax_price(110))"
      ],
      "metadata": {
        "colab": {
          "base_uri": "https://localhost:8080/"
        },
        "id": "WvLX1tBIpqDo",
        "outputId": "e323a48a-a99a-4ef3-a2ab-9841db38814a"
      },
      "execution_count": 2,
      "outputs": [
        {
          "output_type": "stream",
          "name": "stdout",
          "text": [
            "330.0\n"
          ]
        }
      ]
    }
  ],
  "metadata": {
    "colab": {
      "provenance": []
    },
    "kernelspec": {
      "display_name": "Python 3",
      "name": "python3"
    },
    "language_info": {
      "name": "python"
    }
  },
  "nbformat": 4,
  "nbformat_minor": 0
}